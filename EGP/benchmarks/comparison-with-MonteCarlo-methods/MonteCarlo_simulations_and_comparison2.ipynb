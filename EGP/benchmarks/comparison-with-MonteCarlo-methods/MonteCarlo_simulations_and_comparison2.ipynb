{
 "cells": [
  {
   "cell_type": "markdown",
   "metadata": {},
   "source": [
    "## Best subset linear regression problem"
   ]
  },
  {
   "cell_type": "code",
   "execution_count": 1,
   "metadata": {},
   "outputs": [],
   "source": [
    "from sklearn.linear_model import LinearRegression\n",
    "import numpy as np\n",
    "import matplotlib.pyplot as plt\n",
    "from tqdm import tqdm"
   ]
  },
  {
   "cell_type": "code",
   "execution_count": 2,
   "metadata": {},
   "outputs": [],
   "source": [
    "def f(z,t):\n",
    "    X =t[0]\n",
    "    y = t[1]\n",
    "    lam = t[2]\n",
    "    Xt = X[:,z==1]\n",
    "    if z.sum() > 0:\n",
    "        reg = LinearRegression().fit(Xt,y).predict(Xt)\n",
    "    else:\n",
    "        reg = np.zeros(y.shape[0])\n",
    "    RMSE_term = ((y - reg)**2).sum()\n",
    "    L0_term = lam*(z.sum())\n",
    "    loss = (RMSE_term + L0_term) / y.shape[0]\n",
    "    return loss\n"
   ]
  },
  {
   "cell_type": "code",
   "execution_count": 3,
   "metadata": {},
   "outputs": [],
   "source": [
    "def sampleDisARM(theta,f,t):\n",
    "    pnum = theta.shape[0]\n",
    "    u = np.random.uniform(size= pnum) # should be p and not K\n",
    "    #z = np.array([1.0 if u[j] < theta[j] else 0.0 for j in range(K)])\n",
    "    #ztilde = np.array([1.0 if 1.0 - u[j] < theta[j] else 0.0 for j in range(K)])\n",
    "    z = (u < theta).astype(int)\n",
    "    ztilde = (1.0 - u < theta).astype(int)\n",
    "    loss = f(z,t)\n",
    "    diff = loss - f(ztilde,t)\n",
    "    \n",
    "    g = np.zeros(pnum)\n",
    "    g[theta < 0.5] = 0.5*diff*((-1)**(ztilde[theta<0.5]))*(1/theta[theta<0.5])\n",
    "    g[theta >= 0.5] = 0.5*diff*((-1)**(ztilde[theta>=0.5]))*(1/(1.0 - theta[theta>=0.5]))\n",
    "    g[ztilde == z] = 0 \n",
    "    \n",
    "    return g, loss\n",
    "    \n",
    "def sampleBitFlip_1(theta,f,t):\n",
    "    pnum = theta.shape[0]\n",
    "    q = np.random.choice(list(range(pnum)))\n",
    "    z = np.random.binomial(n=1, p = theta)\n",
    "    g = np.zeros(pnum)\n",
    "    z_copy = z.copy()\n",
    "    z[q] = 1\n",
    "    z_copy[q] = 0\n",
    "    loss = f(z,t)\n",
    "    g[q] = pnum*(loss - f(z_copy,t))\n",
    "    return g, loss\n",
    "\n",
    "def sampleBitFlip_k(theta, f,t):\n",
    "    pnum = theta.shape[0]\n",
    "    z = np.random.binomial(n=1, p = theta)\n",
    "    g = np.zeros(pnum)\n",
    "    \n",
    "    loss = 0\n",
    "    for i in range(pnum):\n",
    "        z_copy = z.copy()\n",
    "        z_copy2 = z.copy()\n",
    "        z_copy[i] = 1\n",
    "        z_copy2[i] = 0\n",
    "        if i==0:\n",
    "            loss += f(z_copy,t)\n",
    "            g[i] = (loss - f(z_copy2,t))\n",
    "        else:\n",
    "            g[i] = (f(z_copy,t) - f(z_copy2,t))\n",
    "        \n",
    "    return g, loss\n",
    "\n",
    "\n",
    "def sampleBitFlip_opt(theta,f,t):\n",
    "    pnum = theta.shape[0]\n",
    "    g_1, loss = sampleBitFlip_1(theta,f,t) \n",
    "    g_2, loss2 = sampleDisARM(theta,f,t)\n",
    "    use_bitflip = 1/np.min(np.array([theta,1-theta]), axis = 0) >= 3.0 # shouldn't this be >= 2K or something according to the paper?\n",
    "    g = np.zeros(pnum)\n",
    "    g[use_bitflip] = g_1[use_bitflip]\n",
    "    g[~use_bitflip] = g_2[~use_bitflip]\n",
    "    return g, loss\n",
    "\n",
    "\n",
    "def sampleReinforce_loo(theta,f,t):\n",
    "    z1 = np.random.binomial(n=1, p = theta)\n",
    "    z2 = np.random.binomial(n=1, p = theta)\n",
    "    f1 = f(z1,t)\n",
    "    f2 = f(z2,t)\n",
    "    return 0.5 * ((f1 - f2) * (z1 - theta)+ (f2 - f1) * (z2 - theta)) *(1/theta)*(1/(1-theta)), f1\n",
    "\n",
    "# def loss(theta, t, K):\n",
    "#     \"\"\" \n",
    "#     K is monte carlo samples \n",
    "#     \"\"\"\n",
    "#     loss = 0\n",
    "#     for _ in range(K):\n",
    "#         z = np.random.binomial(n=1, p = theta)\n",
    "#         loss = loss + f(z,t)\n",
    "\n",
    "#     return loss/K\n",
    "def loss_fun(theta, t, K):\n",
    "    \"\"\" \n",
    "    K is monte carlo samples \n",
    "    \"\"\"\n",
    "    X =t[0]\n",
    "    y = t[1]\n",
    "    lam = t[2]\n",
    "    \n",
    "    loss = 0\n",
    "    for _ in range(K):\n",
    "        z = np.random.binomial(n=1, p = theta)\n",
    "        Xt = X[:,z==1]\n",
    "        if z.sum() > 0:\n",
    "            reg = LinearRegression().fit(Xt,y).predict(Xt)\n",
    "        else:\n",
    "            reg = np.zeros(y.shape[0])\n",
    "        RMSE_term = ((y - reg)**2).sum()\n",
    "        L0_term = lam*(z.sum())\n",
    "        loss += RMSE_term / y.shape[0] + L0_term\n",
    "\n",
    "    return loss/K"
   ]
  },
  {
   "cell_type": "code",
   "execution_count": 4,
   "metadata": {},
   "outputs": [],
   "source": [
    "def inverse_sigma(y):\n",
    "    y = np.asarray(y, dtype=float)\n",
    "    result = np.empty_like(y)\n",
    "    \n",
    "    # Create masks\n",
    "    zero_mask = y <= 0.0\n",
    "    one_mask = y >= 1.0\n",
    "    valid_mask = ~(zero_mask | one_mask)\n",
    "    \n",
    "    # Assign values only where needed\n",
    "    result[zero_mask] = -np.inf\n",
    "    result[one_mask] = np.inf\n",
    "    if np.any(valid_mask):\n",
    "        result[valid_mask] = np.log(y[valid_mask] / (1 - y[valid_mask]))\n",
    "    \n",
    "    return result\n",
    "\n",
    "def sigma(x):\n",
    "    result = np.empty_like(x)\n",
    "    \n",
    "    inf_mask = x == np.inf\n",
    "    valid_mask = ~inf_mask\n",
    "    \n",
    "    result[inf_mask] = np.float64(1)\n",
    "    result[valid_mask] = np.exp(x[valid_mask]) / (1 + np.exp(x[valid_mask]))\n",
    "    \n",
    "    return result\n",
    "\n",
    "def train3(grad_func, start, t, n_epoch = 1000, learning_rate = 0.1, K=1):\n",
    "    \n",
    "    losses = []\n",
    "    thetas = []\n",
    "    vars_ = []\n",
    "    phi = inverse_sigma(start)\n",
    "    \n",
    "    for _ in tqdm(range(n_epoch)):\n",
    "        theta = sigma(phi)\n",
    "        gradients = []\n",
    "        loss_avg = 0\n",
    "        for _ in range(K):\n",
    "            gradient, loss = grad_func(theta, f, t)\n",
    "            gradients.append(gradient)\n",
    "            loss_avg += loss\n",
    "        loss_avg = loss_avg / K\n",
    "        g = np.mean(gradients, axis=0)  # Average across samples\n",
    "        vars_.append(np.var(gradients, axis = 0).mean())\n",
    "            \n",
    "        phi = phi - learning_rate*g*sigma(phi)*sigma(-1.0*phi)\n",
    "        \n",
    "        thetas.append(theta)\n",
    "        losses.append(loss_fun(theta, t, 1))\n",
    "        # losses.append(loss_avg)\n",
    "    return thetas, losses, np.array(vars_)\n",
    "\n",
    "def train2(grad_func,start, t, n_epoch = 1000, learning_rate = 0.1, K=1):\n",
    "    \n",
    "    losses = []\n",
    "    thetas = []\n",
    "    vars_ = []\n",
    "    theta = start\n",
    "    \n",
    "    for i in tqdm(range(n_epoch)):\n",
    "        theta[theta < 0] = 10e-12\n",
    "        theta[theta > 1] = 1 - 10e-12\n",
    "        \n",
    "        # compute variances:\n",
    "        g_ss = []\n",
    "        for j in range(K):\n",
    "            g_s, _ = grad_func(theta, f, t)\n",
    "            g_ss.append(g_s)\n",
    "        g_ss = np.array(g_ss)\n",
    "        vars_.append(np.var(g_ss, axis = 0).mean())\n",
    "        \n",
    "        g, _ = grad_func(theta, f, t)\n",
    "        theta = theta - learning_rate*g#*sigma(phi)*sigma(-1.0*phi)\n",
    "        \n",
    "        theta[theta < 0] = 10e-12\n",
    "        theta[theta > 1] = 1 - 10e-12\n",
    "        thetas.append(theta)\n",
    "        losses.append(loss_fun(theta, t, K))\n",
    "    return thetas, losses, np.array(vars_)\n",
    "\n",
    "def train(grad_func,start, t, n_epoch = 1000, learning_rate = 0.1, K=1):\n",
    "    \n",
    "    losses = []\n",
    "    thetas = []\n",
    "    vars_ = []\n",
    "    theta = start\n",
    "    \n",
    "    theta[theta <= 0] = 10e-12\n",
    "    theta[theta >= 1] = 1 - 10e-12\n",
    "    \n",
    "    for i in tqdm(range(n_epoch)):\n",
    "        \n",
    "        # compute gradients, losses and variance simultaneously\n",
    "        gradients = []\n",
    "        loss_avg = 0\n",
    "        \n",
    "        for _ in range(K):\n",
    "            gradient, loss = grad_func(theta, f, t)\n",
    "            gradients.append(gradient)\n",
    "            loss_avg += loss\n",
    "        loss_avg = loss_avg / K\n",
    "        g = np.mean(gradients, axis=0)  # Average across samples\n",
    "        \n",
    "        vars_.append(np.var(gradients, axis = 0).mean())\n",
    "        \n",
    "        theta = theta - learning_rate*g\n",
    "        # np.clip(theta, 0, 1, out=theta)\n",
    "        theta[theta <= 0] = 10e-12\n",
    "        theta[theta >= 1] = 1 - 10e-12\n",
    "\n",
    "        thetas.append(theta)\n",
    "        losses.append(loss_fun(theta, t, 1))\n",
    "    return thetas, losses, np.array(vars_)"
   ]
  },
  {
   "cell_type": "markdown",
   "metadata": {},
   "source": [
    "## Train"
   ]
  },
  {
   "cell_type": "code",
   "execution_count": 5,
   "metadata": {},
   "outputs": [],
   "source": [
    "import pandas as pd\n",
    "from time import time\n",
    "import pickle"
   ]
  },
  {
   "cell_type": "code",
   "execution_count": 69,
   "metadata": {},
   "outputs": [],
   "source": [
    "X = pd.read_csv(\"./results/EGP_2_2025-08-20__n_200__p_2000__s_30__noise_0.75__lambda_15.0__lr_0.1__seed_1__initp_0.5__optimizer_Descent__X.csv\")\n",
    "y = pd.read_csv(\"./results/EGP_2_2025-08-20__n_200__p_2000__s_30__noise_0.75__lambda_15.0__lr_0.1__seed_1__initp_0.5__optimizer_Descent__y.csv\")\n",
    "EGP_metrics = pd.read_csv(\"./results/EGP_2_2025-08-20__n_200__p_2000__s_30__noise_0.75__lambda_15.0__lr_0.1__seed_1__initp_0.5__optimizer_Descent__metrics.csv\")\n",
    "actual_beta = pd.read_csv(\"./results/EGP_2_2025-08-20__n_200__p_2000__s_30__noise_0.75__lambda_15.0__lr_0.1__seed_1__initp_0.5__optimizer_Descent__actual_beta.csv\")\n",
    "setting = pd.read_csv(\"./results/EGP_2_2025-08-20__n_200__p_2000__s_30__noise_0.75__lambda_15.0__lr_0.1__seed_1__initp_0.5__optimizer_Descent__setting.csv\")\n",
    "l_e_descent = pd.read_csv(\"./results/EGP_2_2025-08-20__n_200__p_2000__s_30__noise_0.75__lambda_15.0__lr_0.1__seed_1__initp_0.5__optimizer_Descent__EGP_results.csv\")"
   ]
  },
  {
   "cell_type": "code",
   "execution_count": 70,
   "metadata": {},
   "outputs": [],
   "source": [
    "EGP_metrics_adam = pd.read_csv(\"./results/EGP_2_2025-08-20__n_200__p_2000__s_30__noise_0.75__lambda_15.0__lr_0.1__seed_1__initp_0.5__optimizer_Adam__metrics.csv\")\n",
    "l_e = pd.read_csv(\"./results/EGP_2_2025-08-20__n_200__p_2000__s_30__noise_0.75__lambda_15.0__lr_0.1__seed_1__initp_0.5__optimizer_Adam__EGP_results.csv\")\n",
    "EGP_metrics_std_adam = pd.read_csv(\"./results/EGP_2_2025-08-20__n_200__p_2000__s_30__noise_0.75__lambda_15.0__lr_0.1__seed_1__initp_0.5__optimizer_Adam__metrics_std.csv\")\n",
    "EGP_metrics_std = pd.read_csv(\"./results/EGP_2_2025-08-20__n_200__p_2000__s_30__noise_0.75__lambda_15.0__lr_0.1__seed_1__initp_0.5__optimizer_Descent__metrics_std.csv\")\n"
   ]
  },
  {
   "cell_type": "code",
   "execution_count": 71,
   "metadata": {},
   "outputs": [],
   "source": [
    "n, p, p_sub, noise, lambda_, lr, seed, initp, optimizer = setting.values[0]"
   ]
  },
  {
   "cell_type": "code",
   "execution_count": 72,
   "metadata": {},
   "outputs": [],
   "source": [
    "X = np.array(X)\n",
    "y = np.array(y).flatten()\n",
    "actual_beta = np.array(actual_beta).flatten()\n",
    "start = np.array([initp]*p)\n",
    "t = [X,y,lambda_]\n",
    "l_e_descent = np.array(l_e_descent)\n",
    "l_e = np.array(l_e)"
   ]
  },
  {
   "cell_type": "code",
   "execution_count": 27,
   "metadata": {},
   "outputs": [],
   "source": [
    "def compute_metrics(thetas_r,losses_r,X,actual_beta,t0,t1):\n",
    "    theta = thetas_r[-1]\n",
    "    u = np.random.uniform(size=p) \n",
    "    z = (u < theta).astype(int)\n",
    "    final_beta = np.zeros(theta.shape[0])\n",
    "    if z.sum() > 0:\n",
    "        Xt = X[:,z==1]\n",
    "        final_beta[z==1] = LinearRegression().fit(Xt,y).coef_.flatten()\n",
    "\n",
    "    reconstruction_error = np.sum(np.abs(final_beta-actual_beta))\n",
    "\n",
    "    true_active_set = np.zeros(theta.shape)\n",
    "    true_active_set[actual_beta!=0] = 1\n",
    "    ASRE = np.sum(np.abs(theta-true_active_set)) # ASRE = active set reconstruction error\n",
    "\n",
    "    final_L0_loss = losses_r[-1]\n",
    "\n",
    "    return reconstruction_error, ASRE, final_L0_loss, t1-t0, final_beta"
   ]
  },
  {
   "cell_type": "code",
   "execution_count": 28,
   "metadata": {},
   "outputs": [],
   "source": [
    "import os\n",
    "os.makedirs(\"results/MonteCarlo\", exist_ok=True)"
   ]
  },
  {
   "cell_type": "code",
   "execution_count": 29,
   "metadata": {
    "collapsed": true
   },
   "outputs": [
    {
     "name": "stdout",
     "output_type": "stream",
     "text": [
      "i =  0\n"
     ]
    },
    {
     "name": "stderr",
     "output_type": "stream",
     "text": [
      "  0%|          | 11/4000 [00:00<02:05, 31.79it/s]"
     ]
    },
    {
     "name": "stderr",
     "output_type": "stream",
     "text": [
      "100%|██████████| 4000/4000 [02:13<00:00, 29.87it/s]\n",
      "100%|██████████| 4000/4000 [02:28<00:00, 26.87it/s]\n",
      "100%|██████████| 4000/4000 [02:03<00:00, 32.48it/s]\n",
      "100%|██████████| 4000/4000 [03:25<00:00, 19.50it/s]\n"
     ]
    },
    {
     "name": "stdout",
     "output_type": "stream",
     "text": [
      "computing metrics\n",
      "i =  1\n"
     ]
    },
    {
     "name": "stderr",
     "output_type": "stream",
     "text": [
      "100%|██████████| 4000/4000 [02:14<00:00, 29.64it/s]\n",
      "100%|██████████| 4000/4000 [02:18<00:00, 28.82it/s]\n",
      "100%|██████████| 4000/4000 [01:54<00:00, 34.80it/s]\n",
      "100%|██████████| 4000/4000 [03:03<00:00, 21.74it/s]\n"
     ]
    },
    {
     "name": "stdout",
     "output_type": "stream",
     "text": [
      "computing metrics\n",
      "i =  2\n"
     ]
    },
    {
     "name": "stderr",
     "output_type": "stream",
     "text": [
      "100%|██████████| 4000/4000 [02:14<00:00, 29.81it/s]\n",
      "100%|██████████| 4000/4000 [02:15<00:00, 29.47it/s]\n",
      "100%|██████████| 4000/4000 [01:52<00:00, 35.63it/s]\n",
      "100%|██████████| 4000/4000 [03:14<00:00, 20.58it/s]\n"
     ]
    },
    {
     "name": "stdout",
     "output_type": "stream",
     "text": [
      "computing metrics\n",
      "i =  3\n"
     ]
    },
    {
     "name": "stderr",
     "output_type": "stream",
     "text": [
      "100%|██████████| 4000/4000 [02:30<00:00, 26.63it/s]\n",
      "100%|██████████| 4000/4000 [02:13<00:00, 30.06it/s]\n",
      "100%|██████████| 4000/4000 [01:56<00:00, 34.31it/s]\n",
      "100%|██████████| 4000/4000 [03:15<00:00, 20.51it/s]\n"
     ]
    },
    {
     "name": "stdout",
     "output_type": "stream",
     "text": [
      "computing metrics\n",
      "i =  4\n"
     ]
    },
    {
     "name": "stderr",
     "output_type": "stream",
     "text": [
      "100%|██████████| 4000/4000 [02:12<00:00, 30.15it/s]\n",
      "100%|██████████| 4000/4000 [02:17<00:00, 29.06it/s]\n",
      "100%|██████████| 4000/4000 [01:48<00:00, 36.83it/s]\n",
      "100%|██████████| 4000/4000 [03:05<00:00, 21.56it/s]\n"
     ]
    },
    {
     "name": "stdout",
     "output_type": "stream",
     "text": [
      "computing metrics\n",
      "i =  5\n"
     ]
    },
    {
     "name": "stderr",
     "output_type": "stream",
     "text": [
      "100%|██████████| 4000/4000 [02:13<00:00, 29.96it/s]\n",
      "100%|██████████| 4000/4000 [02:08<00:00, 31.02it/s]\n",
      "100%|██████████| 4000/4000 [01:48<00:00, 36.81it/s]\n",
      "100%|██████████| 4000/4000 [03:05<00:00, 21.56it/s]\n"
     ]
    },
    {
     "name": "stdout",
     "output_type": "stream",
     "text": [
      "computing metrics\n",
      "i =  6\n"
     ]
    },
    {
     "name": "stderr",
     "output_type": "stream",
     "text": [
      "100%|██████████| 4000/4000 [02:13<00:00, 30.07it/s]\n",
      "100%|██████████| 4000/4000 [02:10<00:00, 30.76it/s]\n",
      "100%|██████████| 4000/4000 [01:33<00:00, 42.99it/s]\n",
      "100%|██████████| 4000/4000 [03:01<00:00, 22.04it/s]\n"
     ]
    },
    {
     "name": "stdout",
     "output_type": "stream",
     "text": [
      "computing metrics\n",
      "i =  7\n"
     ]
    },
    {
     "name": "stderr",
     "output_type": "stream",
     "text": [
      "100%|██████████| 4000/4000 [02:08<00:00, 31.07it/s]\n",
      "100%|██████████| 4000/4000 [02:43<00:00, 24.53it/s]\n",
      "100%|██████████| 4000/4000 [01:55<00:00, 34.62it/s]\n",
      "100%|██████████| 4000/4000 [02:57<00:00, 22.59it/s]\n"
     ]
    },
    {
     "name": "stdout",
     "output_type": "stream",
     "text": [
      "computing metrics\n",
      "i =  8\n"
     ]
    },
    {
     "name": "stderr",
     "output_type": "stream",
     "text": [
      "100%|██████████| 4000/4000 [02:20<00:00, 28.46it/s]\n",
      "100%|██████████| 4000/4000 [02:22<00:00, 28.12it/s]\n",
      "100%|██████████| 4000/4000 [01:55<00:00, 34.65it/s]\n",
      "100%|██████████| 4000/4000 [03:26<00:00, 19.41it/s]\n"
     ]
    },
    {
     "name": "stdout",
     "output_type": "stream",
     "text": [
      "computing metrics\n",
      "i =  9\n"
     ]
    },
    {
     "name": "stderr",
     "output_type": "stream",
     "text": [
      "100%|██████████| 4000/4000 [02:27<00:00, 27.08it/s]\n",
      "100%|██████████| 4000/4000 [02:20<00:00, 28.54it/s]\n",
      "100%|██████████| 4000/4000 [01:53<00:00, 35.33it/s]\n",
      "100%|██████████| 4000/4000 [02:46<00:00, 24.03it/s]\n"
     ]
    },
    {
     "name": "stdout",
     "output_type": "stream",
     "text": [
      "computing metrics\n",
      "Done. Saving...\n",
      "Saved.\n"
     ]
    }
   ],
   "source": [
    "l_r = []\n",
    "l_d = []\n",
    "l_b = []\n",
    "l_o = []\n",
    "\n",
    "v_r = []\n",
    "v_d = []\n",
    "v_b = []\n",
    "v_o = []\n",
    "\n",
    "metrics_r = []\n",
    "metrics_d = []\n",
    "metrics_b = []\n",
    "metrics_o = []\n",
    "\n",
    "thetass_r = []\n",
    "thetass_d = []\n",
    "thetass_b = []\n",
    "thetass_o = []\n",
    "\n",
    "repetitions = 10\n",
    "only_bitflip = False\n",
    "epochs = 4000\n",
    "\n",
    "if only_bitflip:\n",
    "    for i in range(repetitions):\n",
    "        print(\"i = \", i)\n",
    "    \n",
    "        t0_b = time()\n",
    "        thetas_b, losses_b, vars_b = train(sampleBitFlip_1, start = start, t = t,  n_epoch = epochs, learning_rate = lr, K=1)\n",
    "        t1_b = time()\n",
    "\n",
    "        l_b.append(losses_b)\n",
    "\n",
    "        v_b.append(vars_b)\n",
    "\n",
    "        thetass_b.append(thetas_b[-1])\n",
    "\n",
    "        print(\"computing metrics\")\n",
    "        metrics_b.append(compute_metrics(thetas_b,losses_b,X,actual_beta,t0_b,t1_b))\n",
    "\n",
    "    print(\"Done.\")\n",
    "    l_b = np.array(l_b)\n",
    "\n",
    "    v_b = np.array(v_b)\n",
    "\n",
    "    thetass_b = np.array(thetass_b)\n",
    "        \n",
    "else:\n",
    "    for i in range(repetitions):\n",
    "        print(\"i = \", i)\n",
    "    \n",
    "        t0_r = time()\n",
    "        thetas_r, losses_r, vars_r = train(sampleReinforce_loo, start = start, t = t, n_epoch = epochs, learning_rate = lr)\n",
    "        t1_r = time()\n",
    "\n",
    "        t0_d = time()\n",
    "        thetas_d, losses_d, vars_d = train(sampleDisARM, start = start, t = t,  n_epoch = epochs, learning_rate = lr)\n",
    "        t1_d = time()\n",
    "\n",
    "        t0_b = time()\n",
    "        thetas_b, losses_b, vars_b = train(sampleBitFlip_1, start = start, t = t,  n_epoch = epochs, learning_rate = lr)\n",
    "        t1_b = time()\n",
    "\n",
    "        t0_o = time()\n",
    "        thetas_o, losses_o, vars_o = train(sampleBitFlip_opt, start = start, t = t,  n_epoch = epochs, learning_rate = lr)\n",
    "        t1_o = time()\n",
    "\n",
    "        l_r.append(losses_r)\n",
    "        l_d.append(losses_d)\n",
    "        l_b.append(losses_b)\n",
    "        l_o.append(losses_o)\n",
    "\n",
    "        v_r.append(vars_r)\n",
    "        v_d.append(vars_d)\n",
    "        v_b.append(vars_b)\n",
    "        v_o.append(vars_o)\n",
    "\n",
    "        thetass_r.append(thetas_r[-1])\n",
    "        thetass_d.append(thetas_d[-1])\n",
    "        thetass_b.append(thetas_b[-1])\n",
    "        thetass_o.append(thetas_o[-1])\n",
    "\n",
    "        print(\"computing metrics\")\n",
    "        metrics_r.append(compute_metrics(thetas_r,losses_r,X,actual_beta,t0_r,t1_r))\n",
    "        metrics_d.append(compute_metrics(thetas_d,losses_d,X,actual_beta,t0_d,t1_d))\n",
    "        metrics_b.append(compute_metrics(thetas_b,losses_b,X,actual_beta,t0_b,t1_b))\n",
    "        metrics_o.append(compute_metrics(thetas_o,losses_o,X,actual_beta,t0_o,t1_o))\n",
    "\n",
    "    print(\"Done. Saving...\")\n",
    "    l_r = np.array(l_r)\n",
    "    l_d = np.array(l_d)\n",
    "    l_b = np.array(l_b)\n",
    "    l_o = np.array(l_o)\n",
    "\n",
    "    v_r = np.array(v_r)\n",
    "    v_d = np.array(v_d)\n",
    "    v_b = np.array(v_b)\n",
    "    v_o = np.array(v_o)\n",
    "\n",
    "    thetass_r = np.array(thetass_r)\n",
    "    thetass_d = np.array(thetass_d)\n",
    "    thetass_b = np.array(thetass_b)\n",
    "    thetass_o = np.array(thetass_o)\n",
    "\n",
    "    with open('./results/MonteCarlo/2025-08-21_l_r.npy', 'wb') as f:\n",
    "        np.save(f, l_r)\n",
    "    with open('./results/MonteCarlo/2025-08-21_v_r.npy', 'wb') as f:\n",
    "        np.save(f, v_r)\n",
    "    with open('./results/MonteCarlo/2025-08-21_metrics_r.pkl', 'wb') as f:\n",
    "        pickle.dump(metrics_r, f)\n",
    "    with open('./results/MonteCarlo/2025-08-21_thetass_r.npy', 'wb') as f:\n",
    "        np.save(f, thetass_r)\n",
    "        \n",
    "    with open('./results/MonteCarlo/2025-08-21_l_d.npy', 'wb') as f:\n",
    "        np.save(f, l_d)\n",
    "    with open('./results/MonteCarlo/2025-08-21_v_d.npy', 'wb') as f:\n",
    "        np.save(f, v_d)\n",
    "    with open('./results/MonteCarlo/2025-08-21_metrics_d.pkl', 'wb') as f:\n",
    "        pickle.dump(metrics_d, f)\n",
    "    with open('./results/MonteCarlo/2025-08-21_thetass_d.npy', 'wb') as f:\n",
    "        np.save(f, thetass_d)\n",
    "        \n",
    "    with open('./results/MonteCarlo/2025-08-21_l_b.npy', 'wb') as f:\n",
    "        np.save(f, l_b)\n",
    "    with open('./results/MonteCarlo/2025-08-21_v_b.npy', 'wb') as f:\n",
    "        np.save(f, v_b)\n",
    "    with open('./results/MonteCarlo/2025-08-21_metrics_b.pkl', 'wb') as f:\n",
    "        pickle.dump(metrics_b, f)\n",
    "    with open('./results/MonteCarlo/2025-08-21_thetass_b.npy', 'wb') as f:\n",
    "        np.save(f, thetass_b)\n",
    "        \n",
    "    with open('./results/MonteCarlo/2025-08-21_l_o.npy', 'wb') as f:\n",
    "        np.save(f, l_o)\n",
    "    with open('./results/MonteCarlo/2025-08-21_v_o.npy', 'wb') as f:\n",
    "        np.save(f, v_o)\n",
    "    with open('./results/MonteCarlo/2025-08-21_metrics_o.pkl', 'wb') as f:\n",
    "        pickle.dump(metrics_o, f)\n",
    "    with open('./results/MonteCarlo/2025-08-21_thetass_o.npy', 'wb') as f:\n",
    "        np.save(f, thetass_o)\n",
    "\n",
    "    print(\"Saved.\")\n"
   ]
  },
  {
   "cell_type": "code",
   "execution_count": 73,
   "metadata": {},
   "outputs": [
    {
     "data": {
      "image/png": "[encoded data removed]",
      "text/plain": [
       "<Figure size 1200x800 with 1 Axes>"
      ]
     },
     "metadata": {},
     "output_type": "display_data"
    }
   ],
   "source": [
    "\n",
    "plt.figure(figsize = (12,8))\n",
    "plt.errorbar(list(range(l_r.shape[1])),l_r.mean(axis = 0), l_r.std(axis = 0)/np.sqrt(10), alpha = 0.3, color = \"black\")\n",
    "plt.plot(l_r.mean(axis = 0), color = \"black\", label = \"Reinforce_loo\")\n",
    "\n",
    "plt.errorbar(list(range(l_d.shape[1])),l_d.mean(axis = 0), l_d.std(axis = 0)/np.sqrt(10),  alpha = 0.3, color = \"red\")\n",
    "plt.plot(l_d.mean(axis = 0), color = \"red\", label = \"DisARM\")\n",
    "plt.errorbar(list(range(l_b.shape[1])),l_b.mean(axis = 0), l_b.std(axis = 0)/np.sqrt(10),  alpha = 0.3, color = \"purple\")\n",
    "plt.plot(l_b.mean(axis = 0), label = \"BitFlip-1\", color = \"purple\")\n",
    "plt.errorbar(list(range(l_o.shape[1])),l_o.mean(axis = 0), l_o.std(axis = 0)/np.sqrt(10),  alpha = 0.3, color = \"green\")\n",
    "plt.plot(l_o.mean(axis = 0), label = \"UGC\", color = \"green\")\n",
    "\n",
    "plt.errorbar(list(range(l_e_descent.shape[1])),l_e_descent.mean(axis = 0), l_e_descent.std(axis = 0)/np.sqrt(10),  alpha = 0.3, color = \"violet\")\n",
    "plt.plot(l_e_descent.mean(axis = 0), label = \"EGP Descent (Ours)\", color = \"violet\")\n",
    "\n",
    "plt.errorbar(list(range(l_e.shape[1])),l_e.mean(axis = 0), l_e.std(axis = 0)/np.sqrt(10),  alpha = 0.3, color = \"blue\")\n",
    "plt.plot(l_e.mean(axis = 0), label = \"EGP (Ours)\", color = \"blue\")\n",
    "\n",
    "plt.ylabel(\"loss\")\n",
    "plt.xlabel(\"steps\")\n",
    "#plt.axhline(K*(t_**2), c = \"black\", linestyle =\"--\", label = \"opt\")\n",
    "plt.tick_params(axis='both', which='major', labelsize=16)\n",
    "\n",
    "plt.tight_layout()\n",
    "plt.legend(fontsize=20)\n",
    "plt.grid()\n",
    "plt.savefig(\"MonteCarloMethods_compared_with_EGP2.png\", dpi = 300)"
   ]
  },
  {
   "cell_type": "code",
   "execution_count": 74,
   "metadata": {},
   "outputs": [
    {
     "data": {
      "text/plain": [
       "<Figure size 640x480 with 0 Axes>"
      ]
     },
     "metadata": {},
     "output_type": "display_data"
    }
   ],
   "source": [
    "plt.savefig(\"MonteCarloMethods_compared_with_EGP2.svg\")"
   ]
  },
  {
   "cell_type": "code",
   "execution_count": 75,
   "metadata": {},
   "outputs": [],
   "source": [
    "# generate metric table\n",
    "# reconstruction_error, ASRE, final_L0_loss, t1-t0, final_beta\n",
    "def compute_averages(*lists):\n",
    "    triples = []\n",
    "    \n",
    "    for L in lists:\n",
    "        # Extract first three elements from each tuple and compute averages\n",
    "        M1 = sum(tuple[0] for tuple in L) / len(L)\n",
    "        M2 = sum(tuple[1] for tuple in L) / len(L) \n",
    "        M3 = sum(tuple[2] for tuple in L) / len(L)\n",
    "        M4 = sum(tuple[3] for tuple in L) / len(L)\n",
    "        \n",
    "        triples.append((M1, M3, M4, M2))\n",
    "    \n",
    "    return triples\n",
    "\n"
   ]
  },
  {
   "cell_type": "code",
   "execution_count": 76,
   "metadata": {},
   "outputs": [],
   "source": [
    "import math\n",
    "\n",
    "def compute_std_devs(*lists):\n",
    "    std_devs = []\n",
    "    \n",
    "    for L in lists:\n",
    "        # First compute means\n",
    "        M1 = sum(tuple[0] for tuple in L) / len(L)\n",
    "        M2 = sum(tuple[1] for tuple in L) / len(L) \n",
    "        M3 = sum(tuple[2] for tuple in L) / len(L)\n",
    "        M4 = sum(tuple[3] for tuple in L) / len(L)\n",
    "        \n",
    "        # Then compute standard deviations\n",
    "        S1 = math.sqrt(sum((tuple[0] - M1)**2 for tuple in L) / len(L))\n",
    "        S2 = math.sqrt(sum((tuple[1] - M2)**2 for tuple in L) / len(L))\n",
    "        S3 = math.sqrt(sum((tuple[2] - M3)**2 for tuple in L) / len(L))\n",
    "        S4 = math.sqrt(sum((tuple[3] - M4)**2 for tuple in L) / len(L))\n",
    "        \n",
    "        std_devs.append((S1, S3, S4, S2))  # Same order as averages\n",
    "    \n",
    "    return std_devs"
   ]
  },
  {
   "cell_type": "code",
   "execution_count": 77,
   "metadata": {},
   "outputs": [
    {
     "data": {
      "text/plain": [
       "[(np.float64(87.7070603501123),\n",
       "  np.float64(12579.0),\n",
       "  136.95402195453644,\n",
       "  np.float64(839.8000149723246)),\n",
       " (np.float64(89.43622821914799),\n",
       "  np.float64(13023.0),\n",
       "  139.86691086292268,\n",
       "  np.float64(873.4000741815338)),\n",
       " (np.float64(1130.4609702159296),\n",
       "  np.float64(3060.2432768646822),\n",
       "  112.15691630840301,\n",
       "  np.float64(229.811150457748)),\n",
       " (np.float64(560.4163774072657),\n",
       "  np.float64(3006.029930427897),\n",
       "  188.06674020290376,\n",
       "  np.float64(224.56411664845692))]"
      ]
     },
     "execution_count": 77,
     "metadata": {},
     "output_type": "execute_result"
    }
   ],
   "source": [
    "averaged_metrics = compute_averages(metrics_r, metrics_d, metrics_b, metrics_o)\n",
    "averaged_metrics"
   ]
  },
  {
   "cell_type": "code",
   "execution_count": 78,
   "metadata": {},
   "outputs": [
    {
     "data": {
      "text/plain": [
       "[(3.7920856862980687,\n",
       "  343.37879957854125,\n",
       "  6.627761956272733,\n",
       "  22.404451444446906),\n",
       " (3.0400646716156623, 507.0266265197519, 9.542553333176121, 32.29610751288281),\n",
       " (2251.075472760703, 156.67653543965818, 7.494377379968066, 2.217193796343839),\n",
       " (334.18770003151235,\n",
       "  154.1130211400924,\n",
       "  11.671308386087267,\n",
       "  10.352083328927028)]"
      ]
     },
     "execution_count": 78,
     "metadata": {},
     "output_type": "execute_result"
    }
   ],
   "source": [
    "std_metrics = compute_std_devs(metrics_r, metrics_d, metrics_b, metrics_o)\n",
    "std_metrics"
   ]
  },
  {
   "cell_type": "code",
   "execution_count": 79,
   "metadata": {},
   "outputs": [],
   "source": [
    "import pandas as pd\n",
    "\n",
    "def combine_dataframes_with_triples(df1, df2, triples, \n",
    "                                   df1_name='df1', df2_name='df2', \n",
    "                                   df3_name='df3', df4_name='df4', \n",
    "                                   df5_name='df5', df6_name='df6', \n",
    "                                   df1_conv='df1', df2_conv='df2', \n",
    "                                   df3_conv='df3', df4_conv='df4', \n",
    "                                   df5_conv='df5', df6_conv='df6',\n",
    "                                   ordering = ['average_rec_err', 'average_final_L0_loss', 'average_ASRE', 'average_runtime', 'Epochs_to_convergence']):\n",
    "    col_names = [col for col in df1.columns]\n",
    "\n",
    "    # Make copies to avoid modifying originals\n",
    "    df1_copy = df1.copy()\n",
    "    df2_copy = df2.copy()\n",
    "    df3_copy = df1.copy()\n",
    "    df4_copy = df2.copy()\n",
    "    \n",
    "    # Add triple values\n",
    "    for i in range(len(triples)):\n",
    "        df1_copy[col_names[i]] = triples[0][i]\n",
    "        df2_copy[col_names[i]] = triples[1][i]\n",
    "        df3_copy[col_names[i]] = triples[2][i]\n",
    "        df4_copy[col_names[i]] = triples[3][i]\n",
    "        \n",
    "    # Add row identifier column\n",
    "    df1['method'] = df1_name\n",
    "    df2['method'] = df2_name\n",
    "    df1_copy['method'] = df3_name\n",
    "    df2_copy['method'] = df4_name\n",
    "    df3_copy['method'] = df5_name\n",
    "    df4_copy['method'] = df6_name\n",
    "\n",
    "    df1['Epochs_to_convergence'] = df1_conv\n",
    "    df2['Epochs_to_convergence'] = df2_conv\n",
    "    df1_copy['Epochs_to_convergence'] = df3_conv\n",
    "    df2_copy['Epochs_to_convergence'] = df4_conv\n",
    "    df3_copy['Epochs_to_convergence'] = df5_conv\n",
    "    df4_copy['Epochs_to_convergence'] = df6_conv\n",
    "    \n",
    "    # Combine with hierarchical index\n",
    "    combined_df = pd.concat([df1_copy, df2_copy, df3_copy, df4_copy, df1, df2])\n",
    "    combined_df = combined_df.set_index('method')\n",
    "    combined_df = combined_df[ordering]\n",
    "    return combined_df\n"
   ]
  },
  {
   "cell_type": "code",
   "execution_count": 84,
   "metadata": {},
   "outputs": [
    {
     "data": {
      "text/html": [
       "<div>\n",
       "<style scoped>\n",
       "    .dataframe tbody tr th:only-of-type {\n",
       "        vertical-align: middle;\n",
       "    }\n",
       "\n",
       "    .dataframe tbody tr th {\n",
       "        vertical-align: top;\n",
       "    }\n",
       "\n",
       "    .dataframe thead th {\n",
       "        text-align: right;\n",
       "    }\n",
       "</style>\n",
       "<table border=\"1\" class=\"dataframe\">\n",
       "  <thead>\n",
       "    <tr style=\"text-align: right;\">\n",
       "      <th></th>\n",
       "      <th>average_rec_err</th>\n",
       "      <th>average_final_L0_loss</th>\n",
       "      <th>average_ASRE</th>\n",
       "      <th>average_runtime</th>\n",
       "      <th>Epochs_to_convergence</th>\n",
       "    </tr>\n",
       "    <tr>\n",
       "      <th>method</th>\n",
       "      <th></th>\n",
       "      <th></th>\n",
       "      <th></th>\n",
       "      <th></th>\n",
       "      <th></th>\n",
       "    </tr>\n",
       "  </thead>\n",
       "  <tbody>\n",
       "    <tr>\n",
       "      <th>Reinforce-Loo</th>\n",
       "      <td>87.707060</td>\n",
       "      <td>12579.000000</td>\n",
       "      <td>839.800015</td>\n",
       "      <td>136.954022</td>\n",
       "      <td>500</td>\n",
       "    </tr>\n",
       "    <tr>\n",
       "      <th>DisARM</th>\n",
       "      <td>89.436228</td>\n",
       "      <td>13023.000000</td>\n",
       "      <td>873.400074</td>\n",
       "      <td>139.866911</td>\n",
       "      <td>500</td>\n",
       "    </tr>\n",
       "    <tr>\n",
       "      <th>Bitflip-1</th>\n",
       "      <td>1130.460970</td>\n",
       "      <td>3060.243277</td>\n",
       "      <td>229.811150</td>\n",
       "      <td>112.156916</td>\n",
       "      <td>3500</td>\n",
       "    </tr>\n",
       "    <tr>\n",
       "      <th>UGC</th>\n",
       "      <td>560.416377</td>\n",
       "      <td>3006.029930</td>\n",
       "      <td>224.564117</td>\n",
       "      <td>188.066740</td>\n",
       "      <td>3500</td>\n",
       "    </tr>\n",
       "    <tr>\n",
       "      <th>EGP Descent (Ours)</th>\n",
       "      <td>3.143917</td>\n",
       "      <td>22.932467</td>\n",
       "      <td>8.000000</td>\n",
       "      <td>5.380735</td>\n",
       "      <td>150</td>\n",
       "    </tr>\n",
       "    <tr>\n",
       "      <th>EGP (Ours)</th>\n",
       "      <td>3.114097</td>\n",
       "      <td>22.931395</td>\n",
       "      <td>8.000000</td>\n",
       "      <td>7.904738</td>\n",
       "      <td>100</td>\n",
       "    </tr>\n",
       "  </tbody>\n",
       "</table>\n",
       "</div>"
      ],
      "text/plain": [
       "                    average_rec_err  average_final_L0_loss  average_ASRE  \\\n",
       "method                                                                     \n",
       "Reinforce-Loo             87.707060           12579.000000    839.800015   \n",
       "DisARM                    89.436228           13023.000000    873.400074   \n",
       "Bitflip-1               1130.460970            3060.243277    229.811150   \n",
       "UGC                      560.416377            3006.029930    224.564117   \n",
       "EGP Descent (Ours)         3.143917              22.932467      8.000000   \n",
       "EGP (Ours)                 3.114097              22.931395      8.000000   \n",
       "\n",
       "                    average_runtime Epochs_to_convergence  \n",
       "method                                                     \n",
       "Reinforce-Loo            136.954022                   500  \n",
       "DisARM                   139.866911                   500  \n",
       "Bitflip-1                112.156916                  3500  \n",
       "UGC                      188.066740                  3500  \n",
       "EGP Descent (Ours)         5.380735                   150  \n",
       "EGP (Ours)                 7.904738                   100  "
      ]
     },
     "execution_count": 84,
     "metadata": {},
     "output_type": "execute_result"
    }
   ],
   "source": [
    "results_table = combine_dataframes_with_triples(EGP_metrics, EGP_metrics_adam, averaged_metrics, \n",
    "                                   df1_name='EGP Descent (Ours)', df2_name='EGP (Ours)', \n",
    "                                   df3_name='Reinforce-Loo', df4_name='DisARM', \n",
    "                                   df5_name='Bitflip-1', df6_name='UGC', \n",
    "                                   df1_conv='150', df2_conv='100', \n",
    "                                   df3_conv='500', df4_conv='500', \n",
    "                                   df5_conv='3500', df6_conv='3500')\n",
    "results_table"
   ]
  },
  {
   "cell_type": "code",
   "execution_count": 88,
   "metadata": {},
   "outputs": [
    {
     "data": {
      "text/html": [
       "<div>\n",
       "<style scoped>\n",
       "    .dataframe tbody tr th:only-of-type {\n",
       "        vertical-align: middle;\n",
       "    }\n",
       "\n",
       "    .dataframe tbody tr th {\n",
       "        vertical-align: top;\n",
       "    }\n",
       "\n",
       "    .dataframe thead th {\n",
       "        text-align: right;\n",
       "    }\n",
       "</style>\n",
       "<table border=\"1\" class=\"dataframe\">\n",
       "  <thead>\n",
       "    <tr style=\"text-align: right;\">\n",
       "      <th></th>\n",
       "      <th>std_rec_err</th>\n",
       "      <th>std_final_L0_loss</th>\n",
       "      <th>std_ASRE</th>\n",
       "      <th>std_runtime</th>\n",
       "      <th>Epochs_to_convergence</th>\n",
       "    </tr>\n",
       "    <tr>\n",
       "      <th>method</th>\n",
       "      <th></th>\n",
       "      <th></th>\n",
       "      <th></th>\n",
       "      <th></th>\n",
       "      <th></th>\n",
       "    </tr>\n",
       "  </thead>\n",
       "  <tbody>\n",
       "    <tr>\n",
       "      <th>Reinforce-Loo</th>\n",
       "      <td>3.792086e+00</td>\n",
       "      <td>343.378800</td>\n",
       "      <td>22.404451</td>\n",
       "      <td>6.627762</td>\n",
       "      <td>500</td>\n",
       "    </tr>\n",
       "    <tr>\n",
       "      <th>DisARM</th>\n",
       "      <td>3.040065e+00</td>\n",
       "      <td>507.026627</td>\n",
       "      <td>32.296108</td>\n",
       "      <td>9.542553</td>\n",
       "      <td>500</td>\n",
       "    </tr>\n",
       "    <tr>\n",
       "      <th>Bitflip-1</th>\n",
       "      <td>2.251075e+03</td>\n",
       "      <td>156.676535</td>\n",
       "      <td>2.217194</td>\n",
       "      <td>7.494377</td>\n",
       "      <td>1500</td>\n",
       "    </tr>\n",
       "    <tr>\n",
       "      <th>UGC</th>\n",
       "      <td>3.341877e+02</td>\n",
       "      <td>154.113021</td>\n",
       "      <td>10.352083</td>\n",
       "      <td>11.671308</td>\n",
       "      <td>1500</td>\n",
       "    </tr>\n",
       "    <tr>\n",
       "      <th>EGP Descent (Ours)</th>\n",
       "      <td>0.000000e+00</td>\n",
       "      <td>0.000002</td>\n",
       "      <td>0.000000</td>\n",
       "      <td>0.108737</td>\n",
       "      <td>150</td>\n",
       "    </tr>\n",
       "    <tr>\n",
       "      <th>EGP (Ours)</th>\n",
       "      <td>2.513152e-07</td>\n",
       "      <td>0.000000</td>\n",
       "      <td>0.000000</td>\n",
       "      <td>0.124162</td>\n",
       "      <td>100</td>\n",
       "    </tr>\n",
       "  </tbody>\n",
       "</table>\n",
       "</div>"
      ],
      "text/plain": [
       "                     std_rec_err  std_final_L0_loss   std_ASRE  std_runtime  \\\n",
       "method                                                                        \n",
       "Reinforce-Loo       3.792086e+00         343.378800  22.404451     6.627762   \n",
       "DisARM              3.040065e+00         507.026627  32.296108     9.542553   \n",
       "Bitflip-1           2.251075e+03         156.676535   2.217194     7.494377   \n",
       "UGC                 3.341877e+02         154.113021  10.352083    11.671308   \n",
       "EGP Descent (Ours)  0.000000e+00           0.000002   0.000000     0.108737   \n",
       "EGP (Ours)          2.513152e-07           0.000000   0.000000     0.124162   \n",
       "\n",
       "                   Epochs_to_convergence  \n",
       "method                                    \n",
       "Reinforce-Loo                        500  \n",
       "DisARM                               500  \n",
       "Bitflip-1                           1500  \n",
       "UGC                                 1500  \n",
       "EGP Descent (Ours)                   150  \n",
       "EGP (Ours)                           100  "
      ]
     },
     "execution_count": 88,
     "metadata": {},
     "output_type": "execute_result"
    }
   ],
   "source": [
    "std_table = combine_dataframes_with_triples(EGP_metrics_std, EGP_metrics_std_adam, std_metrics, \n",
    "                                   df1_name='EGP Descent (Ours)', df2_name='EGP (Ours)', \n",
    "                                   df3_name='Reinforce-Loo', df4_name='DisARM', \n",
    "                                   df5_name='Bitflip-1', df6_name='UGC', \n",
    "                                   df1_conv='150', df2_conv='100', \n",
    "                                   df3_conv='500', df4_conv='500', \n",
    "                                   df5_conv='1500', df6_conv='1500', \n",
    "                                   ordering = ['std_rec_err', 'std_final_L0_loss', 'std_ASRE', 'std_runtime', 'Epochs_to_convergence'])\n",
    "std_table"
   ]
  },
  {
   "cell_type": "code",
   "execution_count": 89,
   "metadata": {},
   "outputs": [
    {
     "name": "stdout",
     "output_type": "stream",
     "text": [
      "\\begin{tabular}{lrrrrl}\n",
      "\\toprule\n",
      " & average_rec_err & average_final_L0_loss & average_ASRE & average_runtime & Epochs_to_convergence \\\\\n",
      "method &  &  &  &  &  \\\\\n",
      "\\midrule\n",
      "\\textbf{Reinforce-Loo} & 87.707 & 12579.000 & 839.800 & 136.954 & 500 \\\\\n",
      "\\textbf{DisARM} & 89.436 & 13023.000 & 873.400 & 139.867 & 500 \\\\\n",
      "\\textbf{Bitflip-1} & 1130.461 & 3060.243 & 229.811 & 112.157 & 3500 \\\\\n",
      "\\textbf{UGC} & 560.416 & 3006.030 & 224.564 & 188.067 & 3500 \\\\\n",
      "\\textbf{EGP Descent (Ours)} & 3.144 & 22.932 & 8.000 & 5.381 & 150 \\\\\n",
      "\\textbf{EGP (Ours)} & 3.114 & 22.931 & 8.000 & 7.905 & 100 \\\\\n",
      "\\bottomrule\n",
      "\\end{tabular}\n",
      "\n"
     ]
    }
   ],
   "source": [
    "# With better formatting options\n",
    "latex_string = results_table.to_latex(\n",
    "    index=True,           # Include row names\n",
    "    escape=False,         # Don't escape LaTeX special characters\n",
    "    float_format='%.3f',  # Format floats to 3 decimal places\n",
    "    bold_rows=True        # Make row names bold\n",
    ")\n",
    "print(latex_string)"
   ]
  },
  {
   "cell_type": "code",
   "execution_count": 90,
   "metadata": {},
   "outputs": [
    {
     "name": "stdout",
     "output_type": "stream",
     "text": [
      "\\begin{tabular}{lrrrrl}\n",
      "\\toprule\n",
      " & std_rec_err & std_final_L0_loss & std_ASRE & std_runtime & Epochs_to_convergence \\\\\n",
      "method &  &  &  &  &  \\\\\n",
      "\\midrule\n",
      "\\textbf{Reinforce-Loo} & 3.792 & 343.379 & 22.404 & 6.628 & 500 \\\\\n",
      "\\textbf{DisARM} & 3.040 & 507.027 & 32.296 & 9.543 & 500 \\\\\n",
      "\\textbf{Bitflip-1} & 2251.075 & 156.677 & 2.217 & 7.494 & 1500 \\\\\n",
      "\\textbf{UGC} & 334.188 & 154.113 & 10.352 & 11.671 & 1500 \\\\\n",
      "\\textbf{EGP Descent (Ours)} & 0.000 & 0.000 & 0.000 & 0.109 & 150 \\\\\n",
      "\\textbf{EGP (Ours)} & 0.000 & 0.000 & 0.000 & 0.124 & 100 \\\\\n",
      "\\bottomrule\n",
      "\\end{tabular}\n",
      "\n"
     ]
    }
   ],
   "source": [
    "# With better formatting options\n",
    "latex_string2 = std_table.to_latex(\n",
    "    index=True,           # Include row names\n",
    "    escape=False,         # Don't escape LaTeX special characters\n",
    "    float_format='%.3f',  # Format floats to 3 decimal places\n",
    "    bold_rows=True        # Make row names bold\n",
    ")\n",
    "print(latex_string2)"
   ]
  },
  {
   "cell_type": "code",
   "execution_count": null,
   "metadata": {},
   "outputs": [],
   "source": []
  },
  {
   "cell_type": "code",
   "execution_count": null,
   "metadata": {},
   "outputs": [],
   "source": []
  }
 ],
 "metadata": {
  "kernelspec": {
   "display_name": "Python 3",
   "language": "python",
   "name": "python3"
  },
  "language_info": {
   "codemirror_mode": {
    "name": "ipython",
    "version": 3
   },
   "file_extension": ".py",
   "mimetype": "text/x-python",
   "name": "python",
   "nbconvert_exporter": "python",
   "pygments_lexer": "ipython3",
   "version": "3.12.8"
  }
 },
 "nbformat": 4,
 "nbformat_minor": 4
}
